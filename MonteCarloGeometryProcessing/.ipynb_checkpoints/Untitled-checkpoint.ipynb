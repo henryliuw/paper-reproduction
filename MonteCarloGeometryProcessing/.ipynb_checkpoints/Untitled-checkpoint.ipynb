{
 "cells": [
  {
   "cell_type": "code",
   "execution_count": 1,
   "id": "f51fe182",
   "metadata": {},
   "outputs": [],
   "source": [
    "import numpy as np"
   ]
  },
  {
   "cell_type": "code",
   "execution_count": 2,
   "id": "0a6d9400",
   "metadata": {},
   "outputs": [],
   "source": [
    "def closestPoint(p, segment):\n",
    "    v = segment[1] - segment[0]\n",
    "    t = np.dot(v, p)\n",
    "    return t * segment[1] + (1-t)*segment[0]"
   ]
  },
  {
   "cell_type": "code",
   "execution_count": 9,
   "id": "1d22344c",
   "metadata": {},
   "outputs": [
    {
     "data": {
      "text/plain": [
       "0.8168045546258657"
      ]
     },
     "execution_count": 9,
     "metadata": {},
     "output_type": "execute_result"
    }
   ],
   "source": [
    "np.random.uniform()"
   ]
  },
  {
   "cell_type": "code",
   "execution_count": 4,
   "id": "d3540604",
   "metadata": {},
   "outputs": [],
   "source": [
    "def G(r, R):\n",
    "    GrR = np.log(R/r) / (2 * np.pi)\n",
    "    if np.isnan(GrR):\n",
    "        return 0\n",
    "    else:\n",
    "        return GrR"
   ]
  },
  {
   "cell_type": "code",
   "execution_count": 11,
   "id": "abb12016",
   "metadata": {},
   "outputs": [],
   "source": [
    "def solve(x, segments, f, g):\n",
    "    eps = 0.001\n",
    "    nWalks = 32\n",
    "    maxSteps = 16\n",
    "    \n",
    "    u=0\n",
    "    \n",
    "    for i in range(nWalks):\n",
    "        x_cur = x\n",
    "        step_cur = 0\n",
    "        R = min([np.linalg.norm(closestPoint(x_cur, s) - x_cur) for s in segments])\n",
    "        while R > eps and step_cur <= maxSteps:\n",
    "            alpha = np.sqrt(np.random.uniform())\n",
    "            theta = np.random.uniform(0, 2*np.pi)\n",
    "            r = alpha * R\n",
    "            y = x_cur + r * np.array([np.cos(theta), np.sin(theta)])\n",
    "            u += np.pi * R * R * G(r, R) * f(y)\n",
    "            R = min([np.linalg.norm(closestPoint(x_cur, s) - x_cur) for s in segments])\n",
    "            step_cur += 1\n",
    "        u += g(closestPoint(x_cur, s))\n",
    "                                     \n",
    "    return u / nWalks"
   ]
  },
  {
   "cell_type": "code",
   "execution_count": null,
   "id": "6030173f",
   "metadata": {},
   "outputs": [],
   "source": [
    "uref = lambda x: np.cos(2*np.pi*x[0]) * np.sin(2*np.pi*x[0])\n",
    "L_uref =  lambda x: 8 * np.pi* np.pi*np.cos(2*np.pi*x[0]) * np.sin(2*np.pi*x[0])"
   ]
  }
 ],
 "metadata": {
  "kernelspec": {
   "display_name": "Python 3 (ipykernel)",
   "language": "python",
   "name": "python3"
  },
  "language_info": {
   "codemirror_mode": {
    "name": "ipython",
    "version": 3
   },
   "file_extension": ".py",
   "mimetype": "text/x-python",
   "name": "python",
   "nbconvert_exporter": "python",
   "pygments_lexer": "ipython3",
   "version": "3.10.9"
  }
 },
 "nbformat": 4,
 "nbformat_minor": 5
}
