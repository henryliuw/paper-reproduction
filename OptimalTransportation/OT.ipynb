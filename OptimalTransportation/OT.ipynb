{
 "cells": [
  {
   "cell_type": "code",
   "execution_count": 1,
   "id": "b581e653",
   "metadata": {},
   "outputs": [],
   "source": [
    "import numpy as np\n",
    "import matplotlib.pyplot as plt"
   ]
  },
  {
   "cell_type": "markdown",
   "id": "e5e4dcfd",
   "metadata": {},
   "source": [
    "# Proximal splittting for Brenier's approach: douglas-rachford solver"
   ]
  },
  {
   "cell_type": "markdown",
   "id": "89bef0c9",
   "metadata": {},
   "source": [
    "see paper `Optimal Transport with Proximal Splitting` and matlab code `http://www.numerical-tours.com/matlab/optimaltransp_2_benamou_brenier/`"
   ]
  },
  {
   "cell_type": "code",
   "execution_count": 1,
   "id": "920c6f00",
   "metadata": {},
   "outputs": [],
   "source": [
    "# constants\n",
    "n = 16\n",
    "p = 16\n",
    "N = n * n\n",
    "\n",
    "# create test signals\n",
    "mesh_x, mesh_y = np.meshgrid(np.linspace(0, 1, n), np.linspace(0, 1, n))\n",
    "\n",
    "gauss_grid = lambda x, y, sigma: np.exp(-((mesh_x - x)**2 + (mesh_y - y)**2) / 2 / (sigma**2))\n",
    "normalize = lambda X: X / X.sum()\n",
    "\n",
    "f0 = normalize(gauss_grid(0.3, 0.2, 0.1)+0.05)\n",
    "f1 = normalize(gauss_grid(0.7, 0.6, 0.07) + 0.6* gauss_grid(0.4, 0.7, 0.07)+0.05)"
   ]
  },
  {
   "cell_type": "code",
   "execution_count": 2,
   "id": "8160da68",
   "metadata": {},
   "outputs": [
    {
     "data": {
      "text/plain": [
       "<matplotlib.image.AxesImage at 0x25270e94a20>"
      ]
     },
     "execution_count": 2,
     "metadata": {},
     "output_type": "execute_result"
    },
    {
     "data": {
      "image/png": "[encoded data removed]",
      "text/plain": [
       "<Figure size 432x288 with 1 Axes>"
      ]
     },
     "metadata": {
      "needs_background": "light"
     },
     "output_type": "display_data"
    }
   ],
   "source": [
    "plt.imshow(f0, cmap='gray')"
   ]
  },
  {
   "cell_type": "code",
   "execution_count": 3,
   "id": "91d4e708",
   "metadata": {},
   "outputs": [
    {
     "data": {
      "text/plain": [
       "<matplotlib.image.AxesImage at 0x25270f1f6a0>"
      ]
     },
     "execution_count": 3,
     "metadata": {},
     "output_type": "execute_result"
    },
    {
     "data": {
      "image/png": "[encoded data removed]",
      "text/plain": [
       "<Figure size 432x288 with 1 Axes>"
      ]
     },
     "metadata": {
      "needs_background": "light"
     },
     "output_type": "display_data"
    }
   ],
   "source": [
    "plt.imshow(f1, cmap='gray')"
   ]
  },
  {
   "cell_type": "code",
   "execution_count": 4,
   "id": "49fee353",
   "metadata": {},
   "outputs": [],
   "source": [
    "# basic operators\n",
    "\n",
    "# define neumann boundary differentiation\n",
    "dx = lambda u: np.concatenate((u[1:,:,:], u[-1:,:,:]), axis=0) - u\n",
    "dy = lambda u: np.concatenate((u[:,1:,:], u[:,-1:,:]), axis=1) - u\n",
    "\n",
    "# adjoint differentiasion \n",
    "# adjoint operator at least for this one can be found by doing simple algebraic math\n",
    "dx_adj = lambda u: -np.concatenate((u[:1,:,:], u[1:-1,:,:]-u[:-2,:,:],-u[-2:-1,:,:]), axis=0)\n",
    "dy_adj = lambda u: -np.concatenate((u[:,:1,:], u[:,1:-1,:]-u[:,:-2,:],-u[:,-2:-1,:]), axis=1)\n",
    "\n",
    "# divergence is adjoint of negetive gradient if boundary intergral is zero by stokes theorem\n",
    "grad = lambda u: np.stack((dx(u), dy(u)), axis=-1) # when u is a scalar field\n",
    "# input m(x, t)=[m_x(x,t), m_y(x, t)] is a 2D vector field in total [n, n, p, 2] size, output is [n, n, p]\n",
    "div = lambda m: -dx_adj(m[:,:,:,0]) + -dy_adj(m[:,:,:,1]) \n",
    "# but why don't we use this?? \n",
    "# my_div = lambda v: dx(v[:,:,:,0]) + dy(v[:,:,:,1])\n",
    "\n",
    "# time derivative\n",
    "dt = lambda f: np.concatenate((f[:,:,1:], f[:,:,-1:]), axis=2) - f # time derivative on f, size:[n, n, p]->[n, n, p]\n",
    "dt_adj = lambda u: -np.concatenate((u[:,:,:1], u[:,:,1:-1]-u[:,:,:-2],-u[:,:,-2:-1]), axis=2) #\n",
    "\n",
    "# A and A_adj\n",
    "# A -- input: w = (m, t) = [n, n, p, 3] (3=2 for m+1 for t) , output, [div(m)+dt(f), f0, f1] = [[n, n, p], [n, n], [n, n]]->in all [n, n, p+2]\n",
    "A = lambda w: np.concatenate((div(w[:,:,:,:2]) + dt(w[:,:,:,2]), w[:,:,:1,2], w[:,:,-1:,2]), axis=2)\n",
    "# A_adj -- input: r=(s, r0, r1)=[n, n, p+2]=[[n, n, p], [n, n], [n, n]], output: [grad s, dt_adj s + U(r0+r1)]=[[n, n, p, 2], [n, n, p]]=[n, n, p, 3]\n",
    "U = lambda r0, r1: np.concatenate([r0, np.zeros([n, n, p-2]), r1], axis=2) # the padding operator, [[n, n, 1], [n, n, 1]] -> [[n, n, p]]\n",
    "add_dim_4 = lambda x: x.reshape([x.shape])\n",
    "A_adj = lambda r: np.concatenate((-grad(r[:,:,:p]), np.expand_dims((U(r[:,:, -2:-1], r[:,:,-1:])+dt_adj(r[:,:,:p])), 3)), axis=3)"
   ]
  },
  {
   "cell_type": "code",
   "execution_count": 5,
   "id": "89745f2b",
   "metadata": {},
   "outputs": [],
   "source": [
    "# helpers\n",
    "def check_adjoint(A,A_adj,shape):\n",
    "    x = np.random.randn(*shape)\n",
    "    Ax = dx(x)\n",
    "    y = np.random.randn(*Ax.shape)\n",
    "    Ay = dx_adj(y)\n",
    "    result = (x * Ay).sum() - (Ax * y).sum()\n",
    "    print(\"<Ax,y>-<x,A*y>=\", result)\n",
    "    #return abs(result) < eps\n",
    "    \n",
    "def print_matlab(arr): \n",
    "    # print the np array in matlab format\n",
    "    s = [i for i in range(len(arr.shape))]\n",
    "    arr = arr.transpose(list(reversed(s[2:]))+ [0, 1])\n",
    "    print(arr)\n",
    "        \n",
    "pm = print_matlab"
   ]
  },
  {
   "cell_type": "code",
   "execution_count": 6,
   "id": "bc7767c5",
   "metadata": {
    "scrolled": true
   },
   "outputs": [
    {
     "name": "stdout",
     "output_type": "stream",
     "text": [
      "<Ax,y>-<x,A*y>= 2.842170943040401e-14\n",
      "<Ax,y>-<x,A*y>= 0.0\n",
      "<Ax,y>-<x,A*y>= 1.4210854715202004e-14\n",
      "<Ax,y>-<x,A*y>= -5.684341886080802e-14\n"
     ]
    }
   ],
   "source": [
    "#check adjoint\n",
    "check_adjoint(dy, dy_adj, [n, n, p])\n",
    "check_adjoint(grad, lambda v:-div(v), [n, n, p])\n",
    "check_adjoint(dt, dt_adj, [n, n, p])\n",
    "check_adjoint(A, A_adj, [n, n, p, 3])"
   ]
  },
  {
   "cell_type": "code",
   "execution_count": 7,
   "id": "90fe9346",
   "metadata": {},
   "outputs": [],
   "source": [
    "from scipy.sparse.linalg import cg\n",
    "from scipy.sparse.linalg import LinearOperator\n",
    "\n",
    "# ProxJ\n",
    "def Proxj(lbda):\n",
    "    def Proxj_helper(wi): # for each (m, f) pointset\n",
    "        m0 = wi[:2]\n",
    "        f0 = wi[2]\n",
    "        # solve for f\n",
    "        roots = np.roots(np.r_[1, (4*lbda-f0), (4*lbda**2-4*lbda*f0), -(lbda*m0.dot(m0)+4*lbda**2*f0)])\n",
    "        f = sorted(list(filter(lambda x: abs(x.imag)<1e-6, roots)), reverse=True)[0].real\n",
    "        m = m0 / (1+ 2*lbda / f)\n",
    "        return np.array([m[0], m[1], f])\n",
    "    return Proxj_helper\n",
    "\n",
    "#Proxj_helper = lambda wi, lbda: Proxj(wi, lbda)\n",
    "# input : [n, n, p, 3] -> output:[n, n, p, 3]\n",
    "ProxJ = lambda w, lbda: np.apply_along_axis(Proxj(lbda), 3, w)\n",
    "\n",
    "def AA_adj_inv(r_Aw): \n",
    "    # solve for AA* X = r_Aw, return X = (AA*)^-1*r_Aw\n",
    "    def AA_adj_vec(x):\n",
    "        x = x.reshape(n, n, p+2)\n",
    "        return A(A_adj(x)).reshape(-1)\n",
    "    AA_adj_LinearOp = LinearOperator([n*n*(p+2), n*n*(p+2)], AA_adj_vec)\n",
    "    result = cg(AA_adj_LinearOp, r_Aw.reshape(-1))\n",
    "    #print(\"CG:\", result[1])\n",
    "    return result[0].reshape(n, n, p+2)\n",
    "# ProxC    input : w [n, n, p, 3]-> output: [n, n, p, 3]\n",
    "ProxC = lambda w : w + A_adj(AA_adj_inv(rb-A(w)))\n",
    "\n",
    "# rProx\n",
    "rProxJ = lambda w, lbda: 2 * ProxJ(w, lbda) - w\n",
    "\n",
    "rb = np.concatenate((np.zeros([n, n, p]), f0.reshape(n,n,1), f1.reshape(n,n,1)), axis=2) # boundary condition\n",
    "\n",
    "J = lambda w: (((w[:,:,:,0] ** 2) + (w[:,:,:,1] ** 2)) / w[:,:,:,2]).sum()\n",
    "cstr = lambda w: ((rb-A(w)) ** 2).sum()"
   ]
  },
  {
   "cell_type": "code",
   "execution_count": 13,
   "id": "25279e8d",
   "metadata": {
    "scrolled": true
   },
   "outputs": [
    {
     "name": "stdout",
     "output_type": "stream",
     "text": [
      "iteration: 0\n",
      "iteration: 10\n",
      "iteration: 20\n",
      "iteration: 30\n",
      "iteration: 40\n",
      "iteration: 50\n",
      "iteration: 60\n",
      "iteration: 70\n",
      "iteration: 80\n",
      "iteration: 90\n",
      "iteration: 100\n",
      "iteration: 110\n",
      "iteration: 120\n",
      "iteration: 130\n",
      "iteration: 140\n",
      "iteration: 150\n",
      "iteration: 160\n",
      "iteration: 170\n",
      "iteration: 180\n",
      "iteration: 190\n",
      "iteration: 200\n",
      "iteration: 210\n",
      "iteration: 220\n",
      "iteration: 230\n",
      "iteration: 240\n",
      "iteration: 250\n",
      "iteration: 260\n",
      "iteration: 270\n",
      "iteration: 280\n",
      "iteration: 290\n",
      "iteration: 300\n",
      "iteration: 310\n",
      "iteration: 320\n",
      "iteration: 330\n",
      "iteration: 340\n",
      "iteration: 350\n",
      "iteration: 360\n",
      "iteration: 370\n",
      "iteration: 380\n",
      "iteration: 390\n",
      "iteration: 400\n",
      "iteration: 410\n",
      "iteration: 420\n",
      "iteration: 430\n",
      "iteration: 440\n",
      "iteration: 450\n",
      "iteration: 460\n",
      "iteration: 470\n",
      "iteration: 480\n",
      "iteration: 490\n"
     ]
    }
   ],
   "source": [
    "# initialization\n",
    "t_steps = np.linspace(0,1,p-1)[1:]\n",
    "f = np.stack([f0] + [ (f0*t+(1-t)*f1) for t in t_steps] + [f1], axis=-1) # [n, n, p]\n",
    "m = np.zeros([n, n, p, 2])\n",
    "w = np.concatenate([m, f.reshape(n, n, p, 1)], axis=3)\n",
    "w_bar = w.copy()\n",
    "w = ProxC(w)\n",
    "J(w_bar)\n",
    "\n",
    "# optimization step\n",
    "mu = 1\n",
    "lbda = 1\n",
    "J_log = []\n",
    "cstr_log = []\n",
    "for i in range(500):\n",
    "    if (i%10==0):\n",
    "        print(\"iteration:\", i)\n",
    "    w = ProxC(w_bar);\n",
    "    temp = 2 * w - w_bar\n",
    "    w_bar = (1-mu/2) * w_bar + mu/2*rProxJ(temp, lbda)\n",
    "    J_log.append(J(w))\n",
    "    cstr_log.append(cstr(w))"
   ]
  },
  {
   "cell_type": "code",
   "execution_count": 14,
   "id": "5d4673cb",
   "metadata": {},
   "outputs": [
    {
     "data": {
      "image/png": "[encoded data removed]",
      "text/plain": [
       "<Figure size 720x720 with 9 Axes>"
      ]
     },
     "metadata": {
      "needs_background": "light"
     },
     "output_type": "display_data"
    }
   ],
   "source": [
    "plot_n = 3\n",
    "f_idx = np.array(np.linspace(0, p-1, plot_n * plot_n), int)\n",
    "\n",
    "fig, axs = plt.subplots(plot_n, plot_n, figsize=(10, 10))\n",
    "for i in range(plot_n):\n",
    "    for j in range(plot_n):\n",
    "        axs[i, j].imshow(w[:, :, f_idx[plot_n * i+j], -1], cmap='gray')\n",
    "        axs[i, j].axis('off')"
   ]
  },
  {
   "cell_type": "code",
   "execution_count": 15,
   "id": "f9e9b3a3",
   "metadata": {},
   "outputs": [
    {
     "data": {
      "text/plain": [
       "Text(0.5,1,'J vs. iteration')"
      ]
     },
     "execution_count": 15,
     "metadata": {},
     "output_type": "execute_result"
    },
    {
     "data": {
      "image/png": "[encoded data removed]",
      "text/plain": [
       "<Figure size 432x288 with 1 Axes>"
      ]
     },
     "metadata": {
      "needs_background": "light"
     },
     "output_type": "display_data"
    }
   ],
   "source": [
    "plt.figure()\n",
    "plt.plot(J_log)\n",
    "plt.title(\"J vs. iteration\")"
   ]
  },
  {
   "cell_type": "code",
   "execution_count": 16,
   "id": "6f8915c8",
   "metadata": {},
   "outputs": [
    {
     "data": {
      "text/plain": [
       "Text(0.5,1,'constraints_MSE vs. iteration')"
      ]
     },
     "execution_count": 16,
     "metadata": {},
     "output_type": "execute_result"
    },
    {
     "data": {
      "image/png": "[encoded data removed]",
      "text/plain": [
       "<Figure size 432x288 with 1 Axes>"
      ]
     },
     "metadata": {
      "needs_background": "light"
     },
     "output_type": "display_data"
    }
   ],
   "source": [
    "plt.figure()\n",
    "plt.plot(cstr_log)\n",
    "plt.title(\"constraints_MSE vs. iteration\")"
   ]
  },
  {
   "cell_type": "markdown",
   "id": "afab5f51",
   "metadata": {},
   "source": [
    "# Entropy regularized OT"
   ]
  },
  {
   "cell_type": "markdown",
   "id": "761d9072",
   "metadata": {},
   "source": [
    "see paper `Sinkhorn Distances: Lightspeed Computation of Optimal Transport` and `Computational Optimal Transport`"
   ]
  },
  {
   "cell_type": "code",
   "execution_count": 2,
   "id": "1658d2fe",
   "metadata": {},
   "outputs": [],
   "source": [
    "# intialize 1D Gaussian Histogram\n",
    "n = 256\n",
    "x = np.linspace(0, 1, n)\n",
    "\n",
    "gaussian = lambda x, mean, sigma : np.exp(-(x - mean)**2 / 2 / (sigma**2))\n",
    "normalize = lambda X: X / X.sum()\n",
    "\n",
    "s = normalize(gaussian(x, 0.4, 0.1)+ 0.4 * gaussian(x, 0.8, 0.2)).reshape(-1, 1)\n",
    "d = normalize(gaussian(x, 0.75, 0.2)*0.2+gaussian(x, 0.1, 0.05)).reshape(-1, 1)"
   ]
  },
  {
   "cell_type": "code",
   "execution_count": 3,
   "id": "aab75cce",
   "metadata": {},
   "outputs": [
    {
     "data": {
      "text/plain": [
       "(-0.05, 1.05, -0.000488356176257353, 0.010351989684022154)"
      ]
     },
     "execution_count": 3,
     "metadata": {},
     "output_type": "execute_result"
    },
    {
     "data": {
      "image/png": "[encoded data removed]",
      "text/plain": [
       "<Figure size 432x288 with 1 Axes>"
      ]
     },
     "metadata": {
      "needs_background": "light"
     },
     "output_type": "display_data"
    }
   ],
   "source": [
    "plt.plot(x, s)\n",
    "plt.axis('off')"
   ]
  },
  {
   "cell_type": "code",
   "execution_count": 4,
   "id": "ecec96b3",
   "metadata": {},
   "outputs": [
    {
     "data": {
      "text/plain": [
       "(-0.05, 1.05, -0.0006492837784656542, 0.019362217981820924)"
      ]
     },
     "execution_count": 4,
     "metadata": {},
     "output_type": "execute_result"
    },
    {
     "data": {
      "image/png": "[encoded data removed]",
      "text/plain": [
       "<Figure size 432x288 with 1 Axes>"
      ]
     },
     "metadata": {
      "needs_background": "light"
     },
     "output_type": "display_data"
    }
   ],
   "source": [
    "plt.plot(x, d)\n",
    "plt.axis('off')"
   ]
  },
  {
   "cell_type": "code",
   "execution_count": 6,
   "id": "2e245373",
   "metadata": {},
   "outputs": [
    {
     "data": {
      "text/plain": [
       "(-0.5, 255.5, 255.5, -0.5)"
      ]
     },
     "execution_count": 6,
     "metadata": {},
     "output_type": "execute_result"
    },
    {
     "data": {
      "image/png": "[encoded data removed]",
      "text/plain": [
       "<Figure size 432x288 with 1 Axes>"
      ]
     },
     "metadata": {
      "needs_background": "light"
     },
     "output_type": "display_data"
    }
   ],
   "source": [
    "# generate u and v\n",
    "u = np.ones([n, 1]) / n\n",
    "v = np.ones([n, 1]) / n\n",
    "\n",
    "gamma = 0.001\n",
    "K = np.zeros([n, n])\n",
    "for i in range(n):\n",
    "    for j in range(n):\n",
    "        K[i, j] = np.exp(-(x[i] - x[j])**2 / gamma)\n",
    "\n",
    "iter_n = 100;\n",
    "for i in range(iter_n): # truly light speed\n",
    "    u = s / K.dot(v) # matrix mult, elementwise div\n",
    "    v = d / (K.T).dot(u)\n",
    "\n",
    "T = u * K * v.reshape(-1) # elementwize mult\n",
    "\n",
    "plt.imshow(T, cmap='gray')\n",
    "plt.axis('off')"
   ]
  },
  {
   "cell_type": "code",
   "execution_count": 6,
   "id": "6aa5666a",
   "metadata": {},
   "outputs": [
    {
     "data": {
      "text/plain": [
       "(-0.5, 255.5, 255.5, -0.5)"
      ]
     },
     "execution_count": 6,
     "metadata": {},
     "output_type": "execute_result"
    },
    {
     "data": {
      "image/png": "[encoded data removed]",
      "text/plain": [
       "<Figure size 432x288 with 1 Axes>"
      ]
     },
     "metadata": {
      "needs_background": "light"
     },
     "output_type": "display_data"
    }
   ],
   "source": [
    "# generate u and v\n",
    "u = np.ones([n, 1]) / n\n",
    "v = np.ones([n, 1]) / n\n",
    "\n",
    "gamma = 0.001\n",
    "K = np.zeros([n, n])\n",
    "for i in range(n):\n",
    "    for j in range(n):\n",
    "        K[i, j] = np.abs(-(x[i] - x[j])/ gamma)\n",
    "\n",
    "iter_n = 100;\n",
    "for i in range(iter_n): # truly light speed\n",
    "    u = s / K.dot(v) # matrix mult, elementwise div\n",
    "    v = d / (K.T).dot(u)\n",
    "\n",
    "T = u * K * v.reshape(-1) # elementwize mult\n",
    "\n",
    "plt.imshow(T, cmap='gray')\n",
    "plt.axis('off')"
   ]
  },
  {
   "cell_type": "code",
   "execution_count": null,
   "id": "9ba5bc79",
   "metadata": {},
   "outputs": [],
   "source": []
  }
 ],
 "metadata": {
  "kernelspec": {
   "display_name": "Python 3",
   "language": "python",
   "name": "python3"
  },
  "language_info": {
   "codemirror_mode": {
    "name": "ipython",
    "version": 3
   },
   "file_extension": ".py",
   "mimetype": "text/x-python",
   "name": "python",
   "nbconvert_exporter": "python",
   "pygments_lexer": "ipython3",
   "version": "3.8.8"
  }
 },
 "nbformat": 4,
 "nbformat_minor": 5
}
